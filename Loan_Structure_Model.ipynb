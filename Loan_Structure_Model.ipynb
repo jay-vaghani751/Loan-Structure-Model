{
  "nbformat": 4,
  "nbformat_minor": 0,
  "metadata": {
    "colab": {
      "provenance": []
    },
    "kernelspec": {
      "name": "python3",
      "display_name": "Python 3"
    },
    "language_info": {
      "name": "python"
    }
  },
  "cells": [
    {
      "cell_type": "markdown",
      "source": [
        "This loan structure model compares the three different loan policies which shows how much a lender incurs the cost (Overall Interest on repayment) on buying loan of large term period or tenure. It is further analyze through plotting the chart."
      ],
      "metadata": {
        "id": "SlpPYqc4Xtbi"
      }
    },
    {
      "cell_type": "code",
      "execution_count": 43,
      "metadata": {
        "id": "kmxUJqJwDeJL"
      },
      "outputs": [],
      "source": [
        "import pandas as pd\n",
        "import numpy as np\n",
        "from datetime import date\n",
        "import numpy_financial as npf \n",
        "import matplotlib.pyplot as plt\n",
        "import matplotlib\n",
        "%matplotlib inline\n",
        "matplotlib.style.use('ggplot')\n",
        "def loan_structure(rate_of_interest, term_duration, yearly_installment, principal, add_principal=0, start_date=date.today()):\n",
        "    \"\"\" Calculate the Loan Structure given the loan details\n",
        "     Args:\n",
        "        rate_of_interest: The annual interest rate for this loan\n",
        "        term_duration: term period of the loan\n",
        "        yearly_installment: Number of payments in a year\n",
        "        principal: Amount lended\n",
        "        add_principal (optional): Additional payments to be made each period. Assume 0 if nothing provided.\n",
        "                                   must be a value less then 0, the function will convert a positive value to\n",
        "                                   negative\n",
        "        start_date (optional): Start date. Will start on first of next month if none provided\n",
        "    \"\"\"\n",
        "    # additional payment will deducted from remaing principal\n",
        "    if add_principal > 0:\n",
        "        add_principal = -add_principal    \n",
        "    # Creating an index of the payment dates\n",
        "    aray = pd.date_range(start_date, periods=term_duration * yearly_installment, freq='MS')\n",
        "    aray.name = \"Payment_Date\"\n",
        "    \n",
        "    # Build up the loan structure as a DataFrame\n",
        "    df = pd.DataFrame(index=aray,columns=['Payment', 'Principal', 'Interest', \n",
        "                                         'Additional_Principal', 'Curr_Balance'], dtype='float')\n",
        "    \n",
        "    # Add index by period (start at 1 not 0)\n",
        "    df.reset_index(inplace=True)\n",
        "    df.index += 1\n",
        "    df.index.name = \"Period\"\n",
        "    \n",
        "    # Calculate the payment, principal and interests amounts using built in numpy_financial functions\n",
        "    period_payment = npf.pmt(rate_of_interest/yearly_installment, term_duration*yearly_installment, principal)\n",
        "    df[\"Payment\"] = period_payment\n",
        "    df[\"Principal\"] = npf.ppmt(rate_of_interest/yearly_installment, df.index, term_duration*yearly_installment, principal)\n",
        "    df[\"Interest\"] = npf.ipmt(rate_of_interest/yearly_installment, df.index, term_duration*yearly_installment, principal)\n",
        "        \n",
        "    # Roundoff\n",
        "    df = df.round(2)\n",
        "    # Add in the additional principal payments\n",
        "    df[\"Additional_Principal\"] = add_principal\n",
        "    \n",
        "    # Store the Cumulative Principal Payments and ensure it never gets larger than the original principal\n",
        "    df[\"Cum_Principal\"] = (df[\"Principal\"] + df[\"Additional_Principal\"]).cumsum()\n",
        "    df[\"Cum_Principal\"] = df[\"Cum_Principal\"].clip(lower=-principal)\n",
        "    \n",
        "    # Calculate the current balance for each period\n",
        "    df[\"Curr_Balance\"] = principal + df[\"Cum_Principal\"]\n",
        "    \n",
        "    # Determining the last payment date\n",
        "    try:\n",
        "        last_payment = df.query(\"Curr_Balance <= 0\")[\"Curr_Balance\"].idxmax(axis=1, skipna=True)\n",
        "    except ValueError:\n",
        "        last_payment = df.last_valid_index()\n",
        "    \n",
        "    last_payment_date = \"{:%m-%d-%Y}\".format(df.loc[last_payment, \"Payment_Date\"])\n",
        "        \n",
        "    # Truncate the data frame if we have additional principal payments:\n",
        "    if add_principal != 0:\n",
        "        df = df.loc[0:last_payment].copy() # Remove the extra payment periods\n",
        "        df.loc[last_payment, \"Principal\"] = -(df.loc[last_payment-1, \"Curr_Balance\"]) # Calculate the principal for the last row\n",
        "        df.loc[last_payment, \"Payment\"] = df.loc[last_payment, [\"Principal\", \"Interest\"]].sum() # Calculate the total payment for the last row\n",
        "        df.loc[last_payment, \"Additional_Principal\"] = 0  # Zero out the additional principal\n",
        "        \n",
        "    # Get the payment info into a DataFrame in column order\n",
        "    payment_info = (df[[\"Payment\", \"Principal\", \"Additional_Principal\", \"Interest\"]]\n",
        "                    .sum().to_frame().T)\n",
        "     # Format the Date DataFrame'\n",
        "    payment_details = pd.DataFrame.from_dict(dict([('payoff_date', [last_payment_date]),\n",
        "                                               ('Interest Rate', [rate_of_interest]),\n",
        "                                               ('Number of years', [term_duration])\n",
        "                                              ]))\n",
        "    # Add a column showing how much we pay each period.\n",
        "    # Combine addl principal with principal for total payment\n",
        "    payment_details[\"Period_Payment\"] = round(period_payment, 2) + add_principal\n",
        "    \n",
        "    payment_summary = pd.concat([payment_details, payment_info], axis=1)\n",
        "    return df, payment_summary\n",
        "structure1, stats1 = loan_structure(0.065, 10, 12, 100000, add_principal=0)\n",
        "structure2, stats2 = loan_structure(0.065, 15, 12, 100000, add_principal=0)\n",
        "structure3, stats3 = loan_structure(0.065, 20, 12, 100000, add_principal=0)\n"
      ]
    },
    {
      "cell_type": "code",
      "source": [
        "\n",
        "structure1[\"Cum_Interest\"] = structure1[\"Interest\"].abs().cumsum()\n",
        "structure2[\"Cum_Interest\"] = structure2[\"Interest\"].abs().cumsum()\n",
        "structure3[\"Cum_Interest\"] = structure3[\"Interest\"].abs().cumsum()\n",
        "\n",
        "fig, ax = plt.subplots(1, 1)\n",
        "\n",
        "\n",
        "structure1.plot(x='Payment_Date', y='Cum_Interest', label=\"Structure 1\", ax=ax )\n",
        "structure2.plot(x='Payment_Date', y='Cum_Interest', label=\"Structure 2\", ax=ax)\n",
        "structure3.plot(x='Payment_Date', y='Cum_Interest', label=\"Structure 3\", ax=ax)\n",
        "\n",
        "ax.legend();"
      ],
      "metadata": {
        "colab": {
          "base_uri": "https://localhost:8080/",
          "height": 282
        },
        "id": "nQIzcZgwIotf",
        "outputId": "76ebba31-28de-4ed0-a5c3-bd858b29cb40"
      },
      "execution_count": 39,
      "outputs": [
        {
          "output_type": "display_data",
          "data": {
            "text/plain": [
              "<Figure size 432x288 with 1 Axes>"
            ],
            "image/png": "[encoded data removed]"
          },
          "metadata": {}
        }
      ]
    }
  ]
}